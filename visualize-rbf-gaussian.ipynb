{
 "cells": [
  {
   "cell_type": "code",
   "execution_count": 1,
   "metadata": {
    "collapsed": false
   },
   "outputs": [],
   "source": [
    "%matplotlib inline\n",
    "import matplotlib.pyplot as plt\n",
    "import numpy as np\n",
    "from ipywidgets import interact, interactive, fixed"
   ]
  },
  {
   "cell_type": "code",
   "execution_count": 2,
   "metadata": {
    "collapsed": true
   },
   "outputs": [],
   "source": [
    "def rbfgaussian(x, y, length=0.8, sigma=0.8):\n",
    "    z = (sigma)**2 * np.exp(-((x - y)** 2/ (2 * length**2)))\n",
    "    return z"
   ]
  },
  {
   "cell_type": "code",
   "execution_count": 3,
   "metadata": {
    "collapsed": false
   },
   "outputs": [
    {
     "data": {
      "text/plain": [
       "<matplotlib.colorbar.Colorbar at 0x7fdcd1a958d0>"
      ]
     },
     "execution_count": 3,
     "metadata": {},
     "output_type": "execute_result"
    },
    {
     "data": {
      "image/png": "[encoded data removed]",
      "text/plain": [
       "<matplotlib.figure.Figure at 0x7fdcd1b5bcf8>"
      ]
     },
     "metadata": {},
     "output_type": "display_data"
    }
   ],
   "source": [
    "X = list(range(5+1))\n",
    "data = np.zeros((5+1, 5+1))\n",
    "for x in X:\n",
    "    for y in X:\n",
    "        data[x, y] = rbfgaussian(x, y)\n",
    "plt.pcolormesh(X, X, data, cmap='Blues', vmin=0, vmax=1)\n",
    "plt.colorbar()"
   ]
  },
  {
   "cell_type": "code",
   "execution_count": 4,
   "metadata": {
    "collapsed": false
   },
   "outputs": [
    {
     "data": {
      "text/plain": [
       "<matplotlib.colorbar.Colorbar at 0x7fdcd19a2908>"
      ]
     },
     "execution_count": 4,
     "metadata": {},
     "output_type": "execute_result"
    },
    {
     "data": {
      "image/png": "[encoded data removed]",
      "text/plain": [
       "<matplotlib.figure.Figure at 0x7fdcd1b5b860>"
      ]
     },
     "metadata": {},
     "output_type": "display_data"
    }
   ],
   "source": [
    "X = list(range(5+1))\n",
    "data = np.zeros((5+1, 5+1))\n",
    "for x in X:\n",
    "    for y in X:\n",
    "        data[x, y] = rbfgaussian(x, y)\n",
    "plt.gca().invert_yaxis()\n",
    "plt.pcolormesh(X, X, data, cmap='Blues', vmin=0, vmax=1)\n",
    "plt.colorbar()"
   ]
  },
  {
   "cell_type": "code",
   "execution_count": 5,
   "metadata": {
    "collapsed": true
   },
   "outputs": [],
   "source": [
    "def drawheatmap(max_xy, step, kfunc, **kwargs):\n",
    "    X = np.arange(-max_xy, max_xy+1, step)\n",
    "    chunks = X.shape[0]\n",
    "    data = np.zeros((chunks, chunks))\n",
    "    X = np.arange(-max_xy, max_xy+1, step)\n",
    "    for i, x in enumerate(X):\n",
    "        for j, y in enumerate(X):\n",
    "            data[i, j] = kfunc(x, y, **kwargs)\n",
    "    plt.gca().invert_yaxis()\n",
    "    plt.pcolormesh(X, X, data, cmap='Blues', vmin=0, vmax=1)\n",
    "    plt.colorbar()"
   ]
  },
  {
   "cell_type": "code",
   "execution_count": 6,
   "metadata": {
    "collapsed": false
   },
   "outputs": [
    {
     "data": {
      "image/png": "[encoded data removed]",
      "text/plain": [
       "<matplotlib.figure.Figure at 0x7fdcd1a6bba8>"
      ]
     },
     "metadata": {},
     "output_type": "display_data"
    }
   ],
   "source": [
    "drawheatmap(5, 0.5, rbfgaussian)"
   ]
  },
  {
   "cell_type": "code",
   "execution_count": 7,
   "metadata": {
    "collapsed": false
   },
   "outputs": [
    {
     "data": {
      "image/png": "[encoded data removed]",
      "text/plain": [
       "<matplotlib.figure.Figure at 0x7fdcd1935b70>"
      ]
     },
     "metadata": {},
     "output_type": "display_data"
    }
   ],
   "source": [
    "drawheatmap(5, 0.5, rbfgaussian, sigma=1)"
   ]
  },
  {
   "cell_type": "code",
   "execution_count": 12,
   "metadata": {
    "collapsed": false
   },
   "outputs": [
    {
     "data": {
      "image/png": "[encoded data removed]",
      "text/plain": [
       "<matplotlib.figure.Figure at 0x7fdcd1a31fd0>"
      ]
     },
     "metadata": {},
     "output_type": "display_data"
    }
   ],
   "source": [
    "def drawheatmap2(max_xy, step, kfunc, **kwargs):\n",
    "    X = np.arange(-max_xy, max_xy+1, step)\n",
    "    chunks = X.shape[0]\n",
    "    data = np.zeros((chunks, chunks))\n",
    "    X = np.arange(-max_xy, max_xy+1, step)\n",
    "    for i, x in enumerate(X):\n",
    "        for j, y in enumerate(X):\n",
    "            data[i, j] = kfunc(x, y, **kwargs)\n",
    "    plt.gca().invert_yaxis()\n",
    "    plt.pcolormesh(X, X, data, cmap='Blues', vmin=0, vmax=1)\n",
    "    plt.colorbar()\n",
    "\n",
    "@interact(s=(0.1, 1), l=(0.1, 1))\n",
    "def inter_rbf(s, l):\n",
    "    drawheatmap2(5, 0.5, rbfgaussian, sigma=s, length=l)"
   ]
  },
  {
   "cell_type": "code",
   "execution_count": null,
   "metadata": {
    "collapsed": true
   },
   "outputs": [],
   "source": []
  },
  {
   "cell_type": "code",
   "execution_count": null,
   "metadata": {
    "collapsed": true
   },
   "outputs": [],
   "source": []
  }
 ],
 "metadata": {
  "kernelspec": {
   "display_name": "Python 3",
   "language": "python",
   "name": "python3"
  },
  "language_info": {
   "codemirror_mode": {
    "name": "ipython",
    "version": 3
   },
   "file_extension": ".py",
   "mimetype": "text/x-python",
   "name": "python",
   "nbconvert_exporter": "python",
   "pygments_lexer": "ipython3",
   "version": "3.5.3"
  },
  "widgets": {
   "state": {
    "1459873174264c78bdf1caee4f1f0b56": {
     "views": [
      {
       "cell_index": 7
      }
     ]
    }
   },
   "version": "1.2.0"
  }
 },
 "nbformat": 4,
 "nbformat_minor": 2
}
