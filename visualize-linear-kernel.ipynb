{
 "cells": [
  {
   "cell_type": "code",
   "execution_count": 1,
   "metadata": {
    "collapsed": false
   },
   "outputs": [],
   "source": [
    "%matplotlib inline\n",
    "import matplotlib.pyplot as plt\n",
    "import numpy as np\n",
    "from ipywidgets import interact, interactive, fixed"
   ]
  },
  {
   "cell_type": "code",
   "execution_count": 12,
   "metadata": {
    "collapsed": true
   },
   "outputs": [],
   "source": [
    "def linear(x, y, c = 0, sigma=0.3, sigmab=0.8):\n",
    "    z = sigmab**2 + sigma **2 * (x - c) * (y - c)\n",
    "    return z"
   ]
  },
  {
   "cell_type": "code",
   "execution_count": 3,
   "metadata": {
    "collapsed": true
   },
   "outputs": [],
   "source": [
    "def drawheatmap(max_xy, step, kfunc, **kwargs):\n",
    "    X = np.arange(-max_xy, max_xy+1, step)\n",
    "    chunks = X.shape[0]\n",
    "    data = np.zeros((chunks, chunks))\n",
    "    X = np.arange(-max_xy, max_xy+1, step)\n",
    "    for i, x in enumerate(X):\n",
    "        for j, y in enumerate(X):\n",
    "            data[i, j] = kfunc(x, y, **kwargs)\n",
    "    plt.gca().invert_yaxis()\n",
    "    plt.pcolormesh(X, X, data, cmap='Blues', vmin=0, vmax=1)\n",
    "    plt.colorbar()"
   ]
  },
  {
   "cell_type": "code",
   "execution_count": 13,
   "metadata": {
    "collapsed": false
   },
   "outputs": [
    {
     "data": {
      "image/png": "[encoded data removed]",
      "text/plain": [
       "<matplotlib.figure.Figure at 0x7fa1c7bb54e0>"
      ]
     },
     "metadata": {},
     "output_type": "display_data"
    }
   ],
   "source": [
    "drawheatmap(5, 0.5, linear)"
   ]
  },
  {
   "cell_type": "code",
   "execution_count": 17,
   "metadata": {
    "collapsed": false
   },
   "outputs": [
    {
     "data": {
      "image/png": "[encoded data removed]",
      "text/plain": [
       "<matplotlib.figure.Figure at 0x7fa1c77f3978>"
      ]
     },
     "metadata": {},
     "output_type": "display_data"
    }
   ],
   "source": [
    "@interact(c=(-1.5, 1.5), sigma=(0.01, 1), sigmab=(0.1, 1))\n",
    "def inter_rbf(c, sigma=0.34, sigmab=0.8):\n",
    "    drawheatmap(5, 0.5, linear, c=c, sigma=sigma, sigmab=sigmab)"
   ]
  },
  {
   "cell_type": "code",
   "execution_count": null,
   "metadata": {
    "collapsed": true
   },
   "outputs": [],
   "source": []
  }
 ],
 "metadata": {
  "kernelspec": {
   "display_name": "Python 3",
   "language": "python",
   "name": "python3"
  },
  "language_info": {
   "codemirror_mode": {
    "name": "ipython",
    "version": 3
   },
   "file_extension": ".py",
   "mimetype": "text/x-python",
   "name": "python",
   "nbconvert_exporter": "python",
   "pygments_lexer": "ipython3",
   "version": "3.5.3"
  },
  "widgets": {
   "state": {
    "329f1b0bf0da4166ab058e6eb0c2c3a0": {
     "views": [
      {
       "cell_index": 4
      }
     ]
    }
   },
   "version": "1.2.0"
  }
 },
 "nbformat": 4,
 "nbformat_minor": 2
}
